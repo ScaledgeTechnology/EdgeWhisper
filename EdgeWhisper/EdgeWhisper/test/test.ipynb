{
 "cells": [
  {
   "cell_type": "code",
   "execution_count": 1,
   "id": "06b9375f-8de3-49ab-9478-e886676b5502",
   "metadata": {},
   "outputs": [],
   "source": [
    "%load_ext autoreload\n",
    "%autoreload 2"
   ]
  },
  {
   "cell_type": "code",
   "execution_count": 2,
   "id": "38b971be-c1af-4894-bfab-3bcfd7f5356d",
   "metadata": {},
   "outputs": [],
   "source": [
    "%reload_ext autoreload"
   ]
  },
  {
   "cell_type": "code",
   "execution_count": 3,
   "id": "ff450478-190c-471c-89a2-e3e178dcbebf",
   "metadata": {},
   "outputs": [],
   "source": [
    "from EdgeWhisper import RealTime"
   ]
  },
  {
   "cell_type": "code",
   "execution_count": 4,
   "id": "2a3e720c-4e90-4531-b4bc-560879a942d3",
   "metadata": {},
   "outputs": [
    {
     "name": "stdout",
     "output_type": "stream",
     "text": [
      "\n",
      "Chosen tiny and tiny.en model with cpu device\n",
      "\n"
     ]
    }
   ],
   "source": [
    "rstt = RealTime(\"default\")"
   ]
  },
  {
   "cell_type": "code",
   "execution_count": 5,
   "id": "e4272486-4658-47fb-9e97-58f9b639b6cc",
   "metadata": {},
   "outputs": [
    {
     "name": "stdout",
     "output_type": "stream",
     "text": [
      "\n",
      "Press Enter to start recording or Esc to exit.\n",
      "\n",
      "Recording... Press Esc to stop.\n",
      "\n",
      "Transcribed Text:\n",
      "\n",
      "Recording stopped.\n",
      "\n",
      "Final Transcriptions Array: []\n"
     ]
    }
   ],
   "source": [
    "rstt.transcribe('transcribe', language='english')"
   ]
  },
  {
   "cell_type": "code",
   "execution_count": null,
   "id": "c293fdf9-bf52-4c89-b01e-092d1d962916",
   "metadata": {},
   "outputs": [],
   "source": [
    "sentence_to_read = \"\"\"The filter_start_end method removes common filler words (e.g., \"uh\", \"um\", \"so\", etc.) from the \n",
    "                    beginning and end of the transcription. These words tend to be present in early chunks and may cause the \n",
    "                    transcription to look incorrect or incomplete.\"\"\""
   ]
  }
 ],
 "metadata": {
  "kernelspec": {
   "display_name": "Python 3 (ipykernel)",
   "language": "python",
   "name": "python3"
  },
  "language_info": {
   "codemirror_mode": {
    "name": "ipython",
    "version": 3
   },
   "file_extension": ".py",
   "mimetype": "text/x-python",
   "name": "python",
   "nbconvert_exporter": "python",
   "pygments_lexer": "ipython3",
   "version": "3.11.9"
  }
 },
 "nbformat": 4,
 "nbformat_minor": 5
}
